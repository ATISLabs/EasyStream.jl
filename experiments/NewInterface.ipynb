{
 "cells": [
  {
   "cell_type": "code",
   "execution_count": 27,
   "metadata": {
    "scrolled": false
   },
   "outputs": [
    {
     "name": "stderr",
     "output_type": "stream",
     "text": [
      "\u001b[32m\u001b[1m Activating\u001b[22m\u001b[39m environment at `~/Codes/jl/EasyStream/Project.toml`\n",
      "WARNING: replacing module DMClassification.\n"
     ]
    }
   ],
   "source": [
    "using Pkg\n",
    "Pkg.activate(\"../\")\n",
    "using CSVFiles\n",
    "using Revise, EasyStream, MLJ\n",
    "using DataFrames\n",
    "include(\"/home/coiote/Codes/jl/DMClassification/src/DMClassification.jl\");"
   ]
  },
  {
   "cell_type": "code",
   "execution_count": 2,
   "metadata": {},
   "outputs": [],
   "source": [
    "path = \"../datasets/sinthetic/\"\n",
    "window_size = 2000\n",
    "n_avaiable_labels = 150;"
   ]
  },
  {
   "cell_type": "code",
   "execution_count": 3,
   "metadata": {},
   "outputs": [],
   "source": [
    "###Getting data\n",
    "streams = Array{Any, 1}()\n",
    "name_files = split(read(`ls $path`, String), \"\\n\")[1:end-1];\n",
    "for name_file in name_files\n",
    "    dataset = CSVFiles.load(path * name_file, header_exists=false) |> DataFrame\n",
    "    coerce!(dataset, autotype(dataset))\n",
    "    samples = Matrix{Float64}(dataset[:,1:end-1])\n",
    "    labels = categorical(dataset[:,end])\n",
    "    push!(streams, EasyStream.Stream(window_size, n_avaiable_labels, samples, labels, name = split(name_file, \".\")[1]));\n",
    "end"
   ]
  },
  {
   "cell_type": "code",
   "execution_count": 29,
   "metadata": {},
   "outputs": [],
   "source": [
    "model = DMClassification.DMClassifier(forgetting_type=:DT2, alpha = 0.916);"
   ]
  },
  {
   "cell_type": "code",
   "execution_count": 32,
   "metadata": {},
   "outputs": [],
   "source": [
    "result, _, _ = DMClassification.MLJBase.fit(model, 0, streams[1].samples[1:150, :], streams[1].labels[1:150]);"
   ]
  },
  {
   "cell_type": "code",
   "execution_count": 52,
   "metadata": {},
   "outputs": [],
   "source": [
    "x = DMClassification.MLJBase.predict(model, result, streams[1].samples[151:200, :]);"
   ]
  },
  {
   "cell_type": "code",
   "execution_count": 53,
   "metadata": {},
   "outputs": [
    {
     "data": {
      "text/plain": [
       "CategoricalArray{Int64,1,UInt32,Int64,CategoricalValue{Int64,UInt32},Union{}}"
      ]
     },
     "execution_count": 53,
     "metadata": {},
     "output_type": "execute_result"
    }
   ],
   "source": [
    "typeof(x)"
   ]
  },
  {
   "cell_type": "code",
   "execution_count": 69,
   "metadata": {
    "scrolled": true
   },
   "outputs": [
    {
     "name": "stderr",
     "output_type": "stream",
     "text": [
      "┌ Warning: `names!(df::AbstractDataFrame, vals::Vector{Symbol}; makeunique::Bool = false)` is deprecated, use `rename!(df, vals, makeunique = makeunique)` instead.\n",
      "│   caller = evaluate(::EasyStream.Stream, ::Main.DMClassification.DMClassifier; measures::MLJBase.Accuracy, output::Symbol, header::Nothing, steps::Int64) at evaluate.jl:129\n",
      "└ @ EasyStream /home/coiote/Codes/jl/EasyStream/src/evaluate.jl:129\n"
     ]
    },
    {
     "data": {
      "text/plain": [
       "(tables = DataFrame[1×2 DataFrame\n",
       "│ Row │ Stream_Names │ DMClassifier │\n",
       "│     │ \u001b[90mAny\u001b[39m          │ \u001b[90mAny\u001b[39m          │\n",
       "├─────┼──────────────┼──────────────┤\n",
       "│ 1   │ 1CDT         │ 0.998675     │],\n",
       " graphs = Any[],\n",
       " bars = Any[],)"
      ]
     },
     "execution_count": 69,
     "metadata": {},
     "output_type": "execute_result"
    }
   ],
   "source": [
    "teste = EasyStream.evaluate(streams[1], model)"
   ]
  },
  {
   "cell_type": "code",
   "execution_count": 56,
   "metadata": {},
   "outputs": [
    {
     "name": "stderr",
     "output_type": "stream",
     "text": [
      "┌ Warning: `CategoricalArray(dims::Int...; ordered = false)` is deprecated, use `CategoricalArray(undef, dims...; ordered = ordered)` instead.\n",
      "│   caller = ip:0x0\n",
      "└ @ Core :-1\n"
     ]
    },
    {
     "data": {
      "text/plain": [
       "0-dimensional CategoricalArray{String,0,UInt32}:\n",
       "#undef"
      ]
     },
     "execution_count": 56,
     "metadata": {},
     "output_type": "execute_result"
    }
   ],
   "source": [
    "x = CategoricalArray{}()"
   ]
  },
  {
   "cell_type": "code",
   "execution_count": 60,
   "metadata": {},
   "outputs": [
    {
     "ename": "MethodError",
     "evalue": "MethodError: no method matching push!(::CategoricalArray{String,0,UInt32,String,CategoricalString{UInt32},Union{}}, ::String)\nClosest candidates are:\n  push!(::Any, ::Any, !Matched::Any) at abstractarray.jl:2158\n  push!(::Any, ::Any, !Matched::Any, !Matched::Any...) at abstractarray.jl:2159\n  push!(!Matched::Array{Any,1}, ::Any) at array.jl:919\n  ...",
     "output_type": "error",
     "traceback": [
      "MethodError: no method matching push!(::CategoricalArray{String,0,UInt32,String,CategoricalString{UInt32},Union{}}, ::String)\nClosest candidates are:\n  push!(::Any, ::Any, !Matched::Any) at abstractarray.jl:2158\n  push!(::Any, ::Any, !Matched::Any, !Matched::Any...) at abstractarray.jl:2159\n  push!(!Matched::Array{Any,1}, ::Any) at array.jl:919\n  ...",
      "",
      "Stacktrace:",
      " [1] top-level scope at In[60]:1"
     ]
    }
   ],
   "source": [
    "push!(x, \"p\")"
   ]
  }
 ],
 "metadata": {
  "kernelspec": {
   "display_name": "JuliaEnv1 1.4.0",
   "language": "julia",
   "name": "juliaenv1-1.4"
  },
  "language_info": {
   "file_extension": ".jl",
   "mimetype": "application/julia",
   "name": "julia",
   "version": "1.4.0"
  }
 },
 "nbformat": 4,
 "nbformat_minor": 2
}
