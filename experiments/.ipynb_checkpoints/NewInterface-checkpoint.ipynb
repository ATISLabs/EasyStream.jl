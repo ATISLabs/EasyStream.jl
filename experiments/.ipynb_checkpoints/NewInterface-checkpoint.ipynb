{
 "cells": [
  {
   "cell_type": "code",
   "execution_count": 27,
   "metadata": {
    "scrolled": false
   },
   "outputs": [
    {
     "name": "stderr",
     "output_type": "stream",
     "text": [
      "\u001b[32m\u001b[1m Activating\u001b[22m\u001b[39m environment at `~/Codes/jl/EasyStream/Project.toml`\n",
      "WARNING: replacing module DMClassification.\n"
     ]
    }
   ],
   "source": [
    "using Pkg\n",
    "Pkg.activate(\"../\")\n",
    "using CSVFiles\n",
    "using Revise, EasyStream, MLJ\n",
    "using DataFrames\n",
    "include(\"/home/coiote/Codes/jl/DMClassification/src/DMClassification.jl\");"
   ]
  },
  {
   "cell_type": "code",
   "execution_count": 2,
   "metadata": {},
   "outputs": [],
   "source": [
    "path = \"../datasets/sinthetic/\"\n",
    "window_size = 2000\n",
    "n_avaiable_labels = 150;"
   ]
  },
  {
   "cell_type": "code",
   "execution_count": 3,
   "metadata": {},
   "outputs": [],
   "source": [
    "###Getting data\n",
    "streams = Array{Any, 1}()\n",
    "name_files = split(read(`ls $path`, String), \"\\n\")[1:end-1];\n",
    "for name_file in name_files\n",
    "    dataset = CSVFiles.load(path * name_file, header_exists=false) |> DataFrame\n",
    "    coerce!(dataset, autotype(dataset))\n",
    "    samples = Matrix{Float64}(dataset[:,1:end-1])\n",
    "    labels = categorical(dataset[:,end])\n",
    "    push!(streams, EasyStream.Stream(window_size, n_avaiable_labels, samples, labels, name = split(name_file, \".\")[1]));\n",
    "end"
   ]
  },
  {
   "cell_type": "code",
   "execution_count": 29,
   "metadata": {},
   "outputs": [],
   "source": [
    "model = DMClassification.DMClassifier(forgetting_type=:DT2, alpha = 0.916);"
   ]
  },
  {
   "cell_type": "code",
   "execution_count": 32,
   "metadata": {},
   "outputs": [],
   "source": [
    "result, _, _ = DMClassification.MLJBase.fit(model, 0, streams[1].samples[1:150, :], streams[1].labels[1:150]);"
   ]
  },
  {
   "cell_type": "code",
   "execution_count": 33,
   "metadata": {},
   "outputs": [],
   "source": [
    "x = DMClassification.MLJBase.predict(model, result, streams[1].samples[151:200, :]);"
   ]
  },
  {
   "cell_type": "code",
   "execution_count": 40,
   "metadata": {},
   "outputs": [
    {
     "data": {
      "text/plain": [
       "0.9986750788643534"
      ]
     },
     "execution_count": 40,
     "metadata": {},
     "output_type": "execute_result"
    }
   ],
   "source": [
    "teste = EasyStream.evaluate(streams[1], model)"
   ]
  },
  {
   "cell_type": "code",
   "execution_count": 23,
   "metadata": {},
   "outputs": [],
   "source": [
    "y = stream.labels\n",
    "ny = Array{Float64}(stream.labels);"
   ]
  }
 ],
 "metadata": {
  "kernelspec": {
   "display_name": "JuliaEnv1 1.4.0",
   "language": "julia",
   "name": "juliaenv1-1.4"
  },
  "language_info": {
   "file_extension": ".jl",
   "mimetype": "application/julia",
   "name": "julia",
   "version": "1.4.0"
  }
 },
 "nbformat": 4,
 "nbformat_minor": 2
}
