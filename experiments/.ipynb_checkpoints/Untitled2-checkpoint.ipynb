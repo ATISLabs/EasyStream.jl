{
 "cells": [
  {
   "cell_type": "code",
   "execution_count": 7,
   "metadata": {},
   "outputs": [
    {
     "name": "stderr",
     "output_type": "stream",
     "text": [
      "\u001b[32m\u001b[1m Activating\u001b[22m\u001b[39m environment at `~/Codes/jl/EasyStream/Project.toml`\n",
      "WARNING: replacing module DMClassification.\n"
     ]
    }
   ],
   "source": [
    "using Pkg\n",
    "Pkg.activate(\"../\")\n",
    "using Distributions, EasyStream\n",
    "include(\"/home/coiote/Codes/jl/DMClassification/src/DMClassification.jl\");"
   ]
  },
  {
   "cell_type": "code",
   "execution_count": 8,
   "metadata": {
    "scrolled": true
   },
   "outputs": [
    {
     "data": {
      "text/plain": [
       "1×6 Array{SubString{String},2}:\n",
       " \"1CDT.csv\"  \"1CSurr.csv\"  \"2CDT.csv\"  …  \"FG_2C_2D.csv\"  \"MG_2C_2D.csv\""
      ]
     },
     "execution_count": 8,
     "metadata": {},
     "output_type": "execute_result"
    }
   ],
   "source": [
    "path = \"../datasets/sinthetic/\"\n",
    "window_size = 2000\n",
    "n_avaiable_labels = 150\n",
    "name_files = split(read(`ls $path`, String), \"\\n\")[1:end-1]\n",
    "name_files = [name_files[i] for i in [1 3 4 5 11 13]]"
   ]
  },
  {
   "cell_type": "code",
   "execution_count": 9,
   "metadata": {},
   "outputs": [],
   "source": [
    "streams = Array{Any, 1}()\n",
    "for name_file in name_files\n",
    "    dataset = CSVFiles.load(path * name_file, header_exists=false) |> DataFrame\n",
    "    coerce!(dataset, autotype(dataset))\n",
    "    samples = Matrix{Float64}(dataset[:,1:end-1])\n",
    "    labels = categorical(dataset[:,end])\n",
    "    push!(streams, EasyStream.Stream(window_size, n_avaiable_labels, samples, labels, name=split(name_file, \".\")[1]));\n",
    "end"
   ]
  },
  {
   "cell_type": "code",
   "execution_count": 10,
   "metadata": {},
   "outputs": [
    {
     "data": {
      "text/plain": [
       "teste (generic function with 1 method)"
      ]
     },
     "execution_count": 10,
     "metadata": {},
     "output_type": "execute_result"
    }
   ],
   "source": [
    "function teste(alpha)\n",
    "    model = DMClassification.DMClassifier(forgetting_type=:DT2, alpha=alpha)\n",
    "    teste = [0. for i in 1:length(streams)]\n",
    "    Threads.@threads for i in 1:length(streams)\n",
    "        result = EasyStream.evaluate(streams[i], model, measures = accuracy, output=[:table])\n",
    "        println(\"Precisão em \", streams[i].name,\": \",result.tables[1][1,end])\n",
    "        teste[i] = result.tables[1][1,end]\n",
    "    end\n",
    "    \n",
    "    return 1 - mean(teste)\n",
    "end"
   ]
  },
  {
   "cell_type": "code",
   "execution_count": 12,
   "metadata": {},
   "outputs": [
    {
     "name": "stdout",
     "output_type": "stream",
     "text": [
      "Precisão em 2CDT: 0.952807570977918\n",
      "Precisão em 1CDT: 0.998801261829653\n",
      "Precisão em 2CHT: 0.8817665615141956\n",
      "Precisão em 1CSurr: 0.8516677851740337\n",
      "Precisão em FG_2C_2D: 0.5916837628221165\n",
      "Precisão em MG_2C_2D: 0.7802852139104328\n",
      "Alfa Atual: 0.3113464902991758\n",
      "Erro Médio: 0.15716464062860835\n",
      "Precisão em 2CHT: 0.8825236593059937\n",
      "Precisão em 1CDT: 0.9987381703470032\n",
      "Precisão em 2CDT: 0.9538170347003154\n",
      "Precisão em 1CSurr: 0.8519398545335825\n",
      "Precisão em MG_2C_2D: 0.510713034776082\n",
      "Precisão em FG_2C_2D: 0.5923242431823867\n",
      "Alfa Atual: 0.18561477779628913\n",
      "Erro Médio: 0.201657333859106\n",
      "Precisão em 1CDT: 0.9986119873817034\n",
      "Precisão em 2CHT: 0.8810094637223975\n",
      "Precisão em 2CDT: 0.9538801261829652\n",
      "Precisão em 1CSurr: 0.8499990931021348\n",
      "Precisão em FG_2C_2D: 0.6061646234676007\n",
      "Precisão em MG_2C_2D: 0.5135501626219665\n",
      "Alfa Atual: 0.024288910709004324\n",
      "Erro Médio: 0.1994640905868721\n",
      "Precisão em 2CDT: 0.9539432176656152\n",
      "Precisão em 1CDT: 0.9986119873817034\n",
      "Precisão em 2CHT: 0.8810094637223975\n",
      "Precisão em 1CSurr: 0.8499265412729218\n",
      "Precisão em FG_2C_2D: 0.5978183637728296\n",
      "Precisão em MG_2C_2D: 0.505659244433325\n",
      "Alfa Atual: -0.13528236176049335\n",
      "Erro Médio: 0.20217186362520134\n",
      "Precisão em 2CDT: 0.9539432176656152\n",
      "Precisão em 2CHT: 0.8810094637223975\n",
      "Precisão em 1CDT: 0.9986119873817034\n",
      "Precisão em 1CSurr: 0.8499265412729218\n",
      "Precisão em MG_2C_2D: 0.505659244433325\n",
      "Precisão em FG_2C_2D: 0.5978183637728296\n",
      "Alfa Atual: -0.29701985266065445\n",
      "Erro Médio: 0.20217186362520134\n"
     ]
    }
   ],
   "source": [
    "function gd()\n",
    "    iteracoes = 5\n",
    "    alpha_atual = rand() * 5\n",
    "    taxa_avanco = 0.8\n",
    "    alpha_anterior = nothing\n",
    "    for i in 1:iteracoes\n",
    "        alpha_anterior = alpha_atual\n",
    "        y = teste(alpha_atual)\n",
    "        println(\"Alfa Atual: \", alpha_atual)\n",
    "        println(\"Erro Médio: \", y)\n",
    "        alpha_atual = alpha_atual - taxa_avanco * y\n",
    "    end\n",
    "end\n",
    "gd()"
   ]
  },
  {
   "cell_type": "code",
   "execution_count": null,
   "metadata": {},
   "outputs": [],
   "source": [
    "alpha = 0.31\n",
    "model = DMClassification.DMClassifier(forgetting_type=:DT2, alpha=alpha)"
   ]
  },
  {
   "cell_type": "code",
   "execution_count": null,
   "metadata": {},
   "outputs": [],
   "source": [
    "function gd()\n",
    "    iteracoes = 15\n",
    "    alpha_atual = rand() * 5\n",
    "    taxa_avanco = 0.8\n",
    "    alpha_anterior = nothing\n",
    "    for i in 1:iteracoes\n",
    "        alpha_anterior = alpha_atual\n",
    "        y = teste(alpha_atual)\n",
    "        println(\"Alfa Atual: \", alpha_atual)\n",
    "        println(\"Erro Médio: \", y)\n",
    "        alpha_atual = alpha_atual - taxa_avanco * y\n",
    "    end\n",
    "end\n",
    "gd()"
   ]
  }
 ],
 "metadata": {
  "kernelspec": {
   "display_name": "JuliaEnv1 1.4.0",
   "language": "julia",
   "name": "juliaenv1-1.4"
  },
  "language_info": {
   "file_extension": ".jl",
   "mimetype": "application/julia",
   "name": "julia",
   "version": "1.4.0"
  }
 },
 "nbformat": 4,
 "nbformat_minor": 2
}
