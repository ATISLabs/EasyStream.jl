{
 "cells": [
  {
   "cell_type": "code",
   "execution_count": 1,
   "metadata": {
    "scrolled": false
   },
   "outputs": [
    {
     "name": "stderr",
     "output_type": "stream",
     "text": [
      "\u001b[32m\u001b[1m Activating\u001b[22m\u001b[39m environment at `~/Codes/jl/EasyStream/Project.toml`\n",
      "┌ Info: Precompiling EasyStream [ebb30991-6a3b-4324-962c-6bc29053301c]\n",
      "└ @ Base loading.jl:1260\n"
     ]
    }
   ],
   "source": [
    "using Pkg\n",
    "Pkg.activate(\"../\")\n",
    "using CSVFiles\n",
    "using Revise, EasyStream\n",
    "using DataFrames\n",
    "include(\"/home/coiote/Codes/jl/DMClassification/src/DMClassification.jl\");"
   ]
  },
  {
   "cell_type": "code",
   "execution_count": 2,
   "metadata": {},
   "outputs": [],
   "source": [
    "path = \"../datasets/sinthetic/\"\n",
    "window_size = 2000\n",
    "n_avaiable_labels = 150;"
   ]
  },
  {
   "cell_type": "code",
   "execution_count": 3,
   "metadata": {},
   "outputs": [],
   "source": [
    "###Getting data\n",
    "streams = Array{Any, 1}()\n",
    "name_files = split(read(`ls $path`, String), \"\\n\")[1:end-1];\n",
    "for name_file in name_files\n",
    "    dataset = CSVFiles.load(path * name_file, header_exists=false) |> DataFrame\n",
    "    coerce!(dataset, autotype(dataset))\n",
    "    samples = Matrix{Float64}(dataset[:,1:end-1])\n",
    "    labels = categorical(dataset[:,end])\n",
    "    push!(streams, EasyStream.Stream(window_size, n_avaiable_labels, samples, labels, name = split(name_file, \".\")[1]));\n",
    "end"
   ]
  },
  {
   "cell_type": "code",
   "execution_count": 4,
   "metadata": {},
   "outputs": [],
   "source": [
    "model = DMClassification.DMClassifier(forgetting_type=:DT2, alpha = 0.916);"
   ]
  },
  {
   "cell_type": "code",
   "execution_count": 6,
   "metadata": {},
   "outputs": [
    {
     "data": {
      "text/plain": [
       "(tables = DataFrame[0×0 DataFrame\n",
       "],\n",
       " graphs = Any[Plot{Plots.GRBackend() n=2}, Plot{Plots.GRBackend() n=2}, Plot{Plots.GRBackend() n=2}, Plot{Plots.GRBackend() n=2}, Plot{Plots.GRBackend() n=2}, Plot{Plots.GRBackend() n=2}, Plot{Plots.GRBackend() n=2}, Plot{Plots.GRBackend() n=2}, Plot{Plots.GRBackend() n=2}, Plot{Plots.GRBackend() n=2}],\n",
       " bars = Any[],)"
      ]
     },
     "execution_count": 6,
     "metadata": {},
     "output_type": "execute_result"
    }
   ],
   "source": [
    "result = EasyStream.evaluate(streams[3], model, measures = accuracy,steps = 10, output=[:prequetialDis])"
   ]
  },
  {
   "cell_type": "code",
   "execution_count": null,
   "metadata": {},
   "outputs": [],
   "source": [
    "using Plots"
   ]
  },
  {
   "cell_type": "code",
   "execution_count": null,
   "metadata": {},
   "outputs": [],
   "source": [
    "anim = @animate for i in 1:length(result.graphs)\n",
    "    plot(result.graphs[i])\n",
    "end\n",
    "gif(anim, \"1CSurr.gif\", fps = 5)"
   ]
  }
 ],
 "metadata": {
  "kernelspec": {
   "display_name": "JuliaEnv1 1.4.0",
   "language": "julia",
   "name": "juliaenv1-1.4"
  },
  "language_info": {
   "file_extension": ".jl",
   "mimetype": "application/julia",
   "name": "julia",
   "version": "1.4.0"
  }
 },
 "nbformat": 4,
 "nbformat_minor": 2
}
