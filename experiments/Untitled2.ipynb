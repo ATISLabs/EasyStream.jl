{
 "cells": [
  {
   "cell_type": "code",
   "execution_count": 2,
   "metadata": {},
   "outputs": [
    {
     "name": "stderr",
     "output_type": "stream",
     "text": [
      "\u001b[32m\u001b[1m Activating\u001b[22m\u001b[39m environment at `~/Codes/jl/EasyStream/Project.toml`\n"
     ]
    }
   ],
   "source": [
    "using Pkg\n",
    "Pkg.activate(\"../\")\n",
    "using Distributions, EasyStream\n",
    "include(\"/home/coiote/Codes/jl/DMClassification/src/DMClassification.jl\");"
   ]
  },
  {
   "cell_type": "code",
   "execution_count": 3,
   "metadata": {
    "scrolled": true
   },
   "outputs": [
    {
     "data": {
      "text/plain": [
       "1×7 Array{SubString{String},2}:\n",
       " \"1CDT.csv\"  \"1CSurr.csv\"  \"2CDT.csv\"  …  \"FG_2C_2D.csv\"  \"MG_2C_2D.csv\""
      ]
     },
     "execution_count": 3,
     "metadata": {},
     "output_type": "execute_result"
    }
   ],
   "source": [
    "path = \"../datasets/sinthetic/\"\n",
    "window_size = 2000\n",
    "n_avaiable_labels = 150\n",
    "name_files = split(read(`ls $path`, String), \"\\n\")[1:end-1]\n",
    "name_files = [name_files[i] for i in [1 3 4 5 8 11 13]]"
   ]
  },
  {
   "cell_type": "code",
   "execution_count": 4,
   "metadata": {},
   "outputs": [],
   "source": [
    "streams = Array{Any, 1}()\n",
    "for name_file in name_files\n",
    "    dataset = CSVFiles.load(path * name_file, header_exists=false) |> DataFrame\n",
    "    coerce!(dataset, autotype(dataset))\n",
    "    samples = Matrix{Float64}(dataset[:,1:end-1])\n",
    "    labels = categorical(dataset[:,end])\n",
    "    push!(streams, EasyStream.Stream(window_size, n_avaiable_labels, samples, labels, name=split(name_file, \".\")[1]));\n",
    "end"
   ]
  },
  {
   "cell_type": "code",
   "execution_count": 5,
   "metadata": {},
   "outputs": [
    {
     "data": {
      "text/plain": [
       "teste (generic function with 1 method)"
      ]
     },
     "execution_count": 5,
     "metadata": {},
     "output_type": "execute_result"
    }
   ],
   "source": [
    "function teste(alpha)\n",
    "    model = DMClassification.DMClassifier(forgetting_type=:DT2, alpha=alpha)\n",
    "    teste = [0. for i in 1:length(streams)]\n",
    "    Threads.@threads for i in 1:length(streams)\n",
    "        result = EasyStream.evaluate(streams[i], model, measures = accuracy, output=[:table])\n",
    "        println(\"Precisão em \", streams[i].name,\": \",result.tables[1][1,end])\n",
    "        teste[i] = result.tables[1][1,end]\n",
    "    end\n",
    "    \n",
    "    return 1 - mean(teste)\n",
    "end"
   ]
  },
  {
   "cell_type": "code",
   "execution_count": null,
   "metadata": {},
   "outputs": [],
   "source": [
    "function gd()\n",
    "    iteracoes = 5\n",
    "    alpha_atual = rand() * 5\n",
    "    taxa_avanco = 0.8\n",
    "    alpha_anterior = nothing\n",
    "    for i in 1:iteracoes\n",
    "        alpha_anterior = alpha_atual\n",
    "        y = teste(alpha_atual)\n",
    "        println(\"Alfa Atual: \", alpha_atual)\n",
    "        println(\"Erro Médio: \", y)\n",
    "        alpha_atual = alpha_atual - taxa_avanco * y\n",
    "    end\n",
    "end\n",
    "gd()"
   ]
  },
  {
   "cell_type": "code",
   "execution_count": null,
   "metadata": {},
   "outputs": [],
   "source": [
    "alpha = 0.31\n",
    "model = DMClassification.DMClassifier(forgetting_type=:DT2, alpha=alpha)"
   ]
  },
  {
   "cell_type": "code",
   "execution_count": 6,
   "metadata": {},
   "outputs": [
    {
     "name": "stdout",
     "output_type": "stream",
     "text": [
      "Precisão em 1CDT: 0.9929968454258675\n",
      "Precisão em 2CHT: 0.7230283911671924\n",
      "Precisão em 2CDT: 0.6325552050473187\n",
      "Precisão em "
     ]
    },
    {
     "name": "stderr",
     "output_type": "stream",
     "text": [
      "┌ Warning: `names!(df::AbstractDataFrame, vals::Vector{Symbol}; makeunique::Bool = false)` is deprecated, use `rename!(df, vals, makeunique = makeunique)` instead.\n",
      "│   caller = evaluate(::EasyStream.Stream, ::Main.DMClassification.DMClassifier; measures::MLJBase.Accuracy, output::Array{Symbol,1}, header::Nothing, steps::Int64) at evaluate.jl:98\n",
      "└ @ EasyStream /home/coiote/Codes/jl/EasyStream/src/evaluate.jl:98\n"
     ]
    },
    {
     "name": "stdout",
     "output_type": "stream",
     "text": [
      "1CSurr: 0.48052890283496275\n",
      "Precisão em 4CRE-V1: 0.26461353624349215\n",
      "Precisão em MG_2C_2D: 0.6099274455841881\n",
      "Precisão em FG_2C_2D: 0.711883912934701\n",
      "Alfa Atual: 4.737042341960194\n",
      "Erro Médio: 0.3692093943946111\n",
      "Precisão em 2CDT: 0.6996845425867508\n",
      "Precisão em 2CHT: 0.7230914826498422\n",
      "Precisão em 1CDT: 0.9931230283911672\n",
      "Precisão em 1CSurr: 0.8727078156458019\n",
      "Precisão em 4CRE-V1: 0.26460552663195835\n",
      "Precisão em FG_2C_2D: 0.7132899674756067\n",
      "Precisão em MG_2C_2D: 0.5921841381035777\n",
      "Alfa Atual: 4.441674826444506\n",
      "Erro Médio: 0.30590192835932783\n",
      "Precisão em 2CHT: 0.7305362776025237\n",
      "Precisão em 2CDT: 0.7579810725552051\n",
      "Precisão em 1CDT: 0.993186119873817\n",
      "Precisão em 1CSurr: 0.4560607984328805\n",
      "Precisão em 4CRE-V1: 0.26461353624349215\n",
      "Precisão em FG_2C_2D: 0.7138203652739554\n",
      "Precisão em MG_2C_2D: 0.628001000750563\n",
      "Alfa Atual: 4.196953283757043\n",
      "Erro Médio: 0.3508286898953662\n",
      "Precisão em 2CDT: 0.7543217665615142\n",
      "Precisão em 2CHT: 0.7589905362776025\n",
      "Precisão em 1CDT: 0.9933753943217666\n",
      "Precisão em 1CSurr: 0.738704587089402\n",
      "Precisão em 4CRE-V1: 0.26455746896275534\n",
      "Precisão em FG_2C_2D: 0.7105228921691269\n",
      "Precisão em MG_2C_2D: 0.6325894420815612\n",
      "Alfa Atual: 3.9162903318407505\n",
      "Erro Médio: 0.3067054160766103\n",
      "Precisão em 1CDT: 0.9943217665615142\n",
      "Precisão em 2CHT: 0.7620820189274448\n",
      "Precisão em 2CDT: 0.7752681388012619\n",
      "Precisão em 1CSurr: 0.8755554749424119\n",
      "Precisão em 4CRE-V1: 0.26457348818582294\n",
      "Precisão em FG_2C_2D: 0.7101926444833625\n",
      "Precisão em MG_2C_2D: 0.7959819864898674\n",
      "Alfa Atual: 3.6709259989794623\n",
      "Erro Médio: 0.26028921165833074\n",
      "Precisão em 2CHT: 0.7579179810725551\n",
      "Precisão em 2CDT: 0.7947634069400631\n",
      "Precisão em 1CDT: 0.9950788643533123\n",
      "Precisão em 1CSurr: 0.8658335298278708\n",
      "Precisão em 4CRE-V1: 0.22221065278333996\n",
      "Precisão em MG_2C_2D: 0.760245183887916\n",
      "Precisão em FG_2C_2D: 0.708461346009507\n",
      "Alfa Atual: 3.462694629652798\n",
      "Erro Médio: 0.27078414787506233\n",
      "Precisão em 2CHT: 0.7692744479495268\n",
      "Precisão em 2CDT: 0.8135015772870662\n",
      "Precisão em 1CDT: 0.9940063091482649\n",
      "Precisão em 1CSurr: 0.8501986106324706\n",
      "Precisão em 4CRE-V1: 0.22762515018021623\n",
      "Precisão em FG_2C_2D: 0.7082912184138104\n",
      "Precisão em MG_2C_2D: 0.7633074806104578\n",
      "Alfa Atual: 3.246067311352748\n",
      "Erro Médio: 0.2676850293968839\n",
      "Precisão em 1CDT: 0.9927444794952681\n",
      "Precisão em 2CDT: 0.8345741324921135\n",
      "Precisão em 2CHT: 0.7793690851735016\n",
      "Precisão em 1CSurr: 0.866141875102026\n",
      "Precisão em 4CRE-V1: 0.22649579495394478\n",
      "Precisão em FG_2C_2D: 0.5645684263197398\n",
      "Precisão em MG_2C_2D: 0.7568126094570928\n",
      "Alfa Atual: 3.031919287835241\n",
      "Erro Médio: 0.282756228143759\n",
      "Precisão em 2CHT: 0.7861198738170347\n",
      "Precisão em 2CDT: 0.8813249211356466\n",
      "Precisão em 1CDT: 0.9927444794952681\n",
      "Precisão em 1CSurr: 0.8541889612391853\n",
      "Precisão em 4CRE-V1: 0.23061273528233883\n",
      "Precisão em FG_2C_2D: 0.5588991743807856\n",
      "Precisão em MG_2C_2D: 0.7218764073054791\n",
      "Alfa Atual: 2.8057143053202336\n",
      "Erro Médio: 0.2820333496206089\n",
      "Precisão em 1CDT: 0.9945741324921136\n",
      "Precisão em 2CDT: 0.8721766561514196\n",
      "Precisão em 2CHT: 0.7895268138801261\n",
      "Precisão em 1CSurr: 0.8594308308998241\n",
      "Precisão em 4CRE-V1: 0.22764116940328394\n",
      "Precisão em MG_2C_2D: 0.6980135101325995\n",
      "Precisão em FG_2C_2D: 0.6494971228421316\n",
      "Alfa Atual: 2.5800876256237464\n",
      "Erro Médio: 0.2727342520283573\n",
      "Precisão em 2CHT: 0.7958990536277603\n",
      "Precisão em 2CDT: 0.8810725552050473\n",
      "Precisão em 1CDT: 0.9948895899053628\n",
      "Precisão em 1CSurr: 0.8535359947762683\n",
      "Precisão em 4CRE-V1: 0.2484741690028034\n",
      "Precisão em MG_2C_2D: 0.7399649737302978\n",
      "Precisão em FG_2C_2D: 0.6016562421816363\n",
      "Alfa Atual: 2.3619002240010607\n",
      "Erro Médio: 0.269215345938689\n",
      "Precisão em 1CDT: 0.9950157728706625\n",
      "Precisão em 2CHT: 0.8181703470031546\n",
      "Precisão em 2CDT: 0.8852365930599368\n",
      "Precisão em 1CSurr: 0.9237480274971432\n",
      "Precisão em 4CRE-V1: 0.2354985983179816\n",
      "Precisão em MG_2C_2D: 0.7467800850637978\n",
      "Precisão em FG_2C_2D: 0.598018513885414\n",
      "Alfa Atual: 2.1465279472501093\n",
      "Erro Médio: 0.2567902946145585\n",
      "Precisão em 2CHT: 0.8263722397476341\n",
      "Precisão em 2CDT: 0.916403785488959\n",
      "Precisão em 1CDT: 0.9983596214511041\n",
      "Precisão em 1CSurr: 0.8714018827199681\n",
      "Precisão em 4CRE-V1: 0.3348898678414097\n",
      "Precisão em MG_2C_2D: 0.7661245934450838\n",
      "Precisão em FG_2C_2D: 0.6190893169877407\n",
      "Alfa Atual: 1.9410957115584626\n",
      "Erro Médio: 0.2381940989025858\n",
      "Precisão em 2CDT: 0.9097791798107255\n",
      "Precisão em 2CHT: 0.8372239747634069\n",
      "Precisão em 1CDT: 0.9989274447949527\n",
      "Precisão em 1CSurr: 0.8706400885132316\n",
      "Precisão em 4CRE-V1: 0.39431317581097314\n",
      "Precisão em FG_2C_2D: 0.5740005003752815\n",
      "Precisão em MG_2C_2D: 0.8162421816362272\n",
      "Alfa Atual: 1.750540432436394\n",
      "Erro Médio: 0.22841049347074305\n",
      "Precisão em 1CDT: 0.9990536277602524\n",
      "Precisão em 2CDT: 0.9097160883280757\n",
      "Precisão em 2CHT: 0.841198738170347\n",
      "Precisão em 1CSurr: 0.8675566357716794\n",
      "Precisão em 4CRE-V1: 0.3941529835802964\n",
      "Precisão em MG_2C_2D: 0.8161771328496372\n",
      "Precisão em FG_2C_2D: 0.5382386790092569\n",
      "Alfa Atual: 1.5678120376597995\n",
      "Erro Médio: 0.23341515921863631\n"
     ]
    }
   ],
   "source": [
    "function gd()\n",
    "    iteracoes = 15\n",
    "    alpha_atual = rand() * 5\n",
    "    taxa_avanco = 0.8\n",
    "    alpha_anterior = nothing\n",
    "    for i in 1:iteracoes\n",
    "        alpha_anterior = alpha_atual\n",
    "        y = teste(alpha_atual)\n",
    "        println(\"Alfa Atual: \", alpha_atual)\n",
    "        println(\"Erro Médio: \", y)\n",
    "        alpha_atual = alpha_atual - taxa_avanco * y\n",
    "    end\n",
    "end\n",
    "gd()"
   ]
  }
 ],
 "metadata": {
  "kernelspec": {
   "display_name": "JuliaEnv1 1.4.0",
   "language": "julia",
   "name": "juliaenv1-1.4"
  },
  "language_info": {
   "file_extension": ".jl",
   "mimetype": "application/julia",
   "name": "julia",
   "version": "1.4.0"
  }
 },
 "nbformat": 4,
 "nbformat_minor": 2
}
