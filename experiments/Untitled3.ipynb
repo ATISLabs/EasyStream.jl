{
 "cells": [
  {
   "cell_type": "markdown",
   "metadata": {},
   "source": [
    "Primeiros testes\n",
    "----\n",
    "A suposta investigação se iniciou ao notar-se possiveis situações onde o sistema de esquecimento do algortimo poderia gerar classifições erradas, pois a simples união dos dois clusters mais longínquos poderiam gerar um novo cluster com o posicionamento baseado em dois cluster relacionados a um contexto *outdated*.\n",
    "\n",
    "O primeiro passo a ser tomado foi a criação de dois modelos semelhantes ao MClassification, mas com o sistema de esquecimento levando em cosideração o tempo de chegada das amostras e a participação dos cluster na classificação através da distância.\n",
    "\n",
    "Em consequencia a isso foram gerados dois novos algortimos:\n",
    "\n",
    "* MClassification D - Algortimo onde no processo de esquecimento, após a classificação da instancia, o cluster contendo o mesmo rotulo dessa instancia e estnado mais distante à essa instancia é apagado.\n",
    "\n",
    "* MClassification A - Algortimo onde no processo de esquecimento, após a classificação da instância, o cluster contendo o mesmo rotulo dessa recem-chegada instância e sendo o mais antigo deles é apagado.\n",
    "\n",
    "MClassification | MClassification - D | MClassification - A\n",
    "--------------- | -----------------  | -----------------\n",
    "99.84       | **99.86** | 97.72\n",
    "99.17       | **99.31** | 99.04\n",
    "**85.50**        | 84.99 | 39.04\n",
    "94.47        | **95.39** | 62.06\n",
    "87.75        | **88.10** | 73.19\n",
    "91.86        | **94.46** | 91.88\n",
    "98.73        | **99.98** | **99.98**\n",
    "90.97         | 71.99 | 26.46\n",
    "90.45        | **91.30** | 20.83\n",
    "86.13        | **88.47** | 52.36\n",
    "56.65         | 59.78 | **71.38**\n",
    "94.32        | **95.54** | 93.77\n",
    "53.37         | 50.56 | **75.18**\n",
    "94.94        | **95.32** | 68.04\n",
    "94.32        | **94.67** | 49.36\n",
    "91.09        | **91.26** | 55.48\n",
    "\n",
    "\n",
    "Conlusão\n",
    "-------\n",
    "Conseguimos notar que o relacionamnto de distância e tempo acabam sendo mais eficazes em datasets diferentes. Depois dessa conclusão"
   ]
  },
  {
   "cell_type": "markdown",
   "metadata": {},
   "source": [
    "\n",
    "\n",
    "MClassification | MClassification - Mix - 0.916 \n",
    "--------------- | -----------------\n",
    "99.84       | **99.86**\n",
    "99.17       | **99.38**\n",
    "85.50        | **86.21**\n",
    "94.47        | **94.78**\n",
    "87.75        | 87.46\n",
    "91.86        | **93.96**\n",
    "98.73        | **99.98**\n",
    "**90.97**         | 52.66\n",
    "90.45        | **91.49**\n",
    "**86.13**        | 81.19\n",
    "56.65         | **57.63**\n",
    "94.32        | **95.18**\n",
    "53.37         | **78.58**\n",
    "94.94        | **95.24**\n",
    "94.32        | **94.63**\n",
    "91.09        | **91.31**\n"
   ]
  }
 ],
 "metadata": {
  "kernelspec": {
   "display_name": "JuliaEnv1 1.4.0",
   "language": "julia",
   "name": "juliaenv1-1.4"
  },
  "language_info": {
   "file_extension": ".jl",
   "mimetype": "application/julia",
   "name": "julia",
   "version": "1.4.0"
  }
 },
 "nbformat": 4,
 "nbformat_minor": 2
}
